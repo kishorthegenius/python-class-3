{
 "cells": [
  {
   "cell_type": "code",
   "execution_count": 1,
   "id": "b7eb057f",
   "metadata": {},
   "outputs": [],
   "source": [
    "import numpy as np"
   ]
  },
  {
   "cell_type": "code",
   "execution_count": 2,
   "id": "b180ffbc",
   "metadata": {},
   "outputs": [
    {
     "data": {
      "text/plain": [
       "array([ 0,  1,  2,  3,  4,  5,  6,  7,  8,  9, 10, 11, 12, 13, 14, 15, 16,\n",
       "       17, 18, 19, 20, 21, 22, 23, 24, 25, 26, 27, 28, 29])"
      ]
     },
     "execution_count": 2,
     "metadata": {},
     "output_type": "execute_result"
    }
   ],
   "source": [
    "sample_array=np.arange(30)\n",
    "sample_array"
   ]
  },
  {
   "cell_type": "code",
   "execution_count": 4,
   "id": "e8b2659a",
   "metadata": {},
   "outputs": [
    {
     "data": {
      "text/plain": [
       "array([4, 6, 8, 6, 2, 4, 3, 1, 0, 3, 5, 9, 8, 7, 9, 0, 5, 9, 6, 2, 4, 1,\n",
       "       6, 2, 1, 1, 4, 6, 4, 8, 5, 2, 2, 0, 9, 6, 3, 3, 8, 9, 5, 2, 9, 5,\n",
       "       2, 8, 5, 0, 8, 8])"
      ]
     },
     "execution_count": 4,
     "metadata": {},
     "output_type": "execute_result"
    }
   ],
   "source": [
    "rand_array=np.random.randint(0,10,50)\n",
    "rand_array"
   ]
  },
  {
   "cell_type": "code",
   "execution_count": 5,
   "id": "17717856",
   "metadata": {},
   "outputs": [
    {
     "data": {
      "text/plain": [
       "9"
      ]
     },
     "execution_count": 5,
     "metadata": {},
     "output_type": "execute_result"
    }
   ],
   "source": [
    "rand_array.max()"
   ]
  },
  {
   "cell_type": "code",
   "execution_count": 6,
   "id": "0345e1ad",
   "metadata": {},
   "outputs": [
    {
     "data": {
      "text/plain": [
       "11"
      ]
     },
     "execution_count": 6,
     "metadata": {},
     "output_type": "execute_result"
    }
   ],
   "source": [
    "rand_array.argmax()"
   ]
  },
  {
   "cell_type": "code",
   "execution_count": 7,
   "id": "7d06f2d0",
   "metadata": {},
   "outputs": [
    {
     "data": {
      "text/plain": [
       "array([[1., 0., 0., 0., 0.],\n",
       "       [0., 1., 0., 0., 0.],\n",
       "       [0., 0., 1., 0., 0.],\n",
       "       [0., 0., 0., 1., 0.],\n",
       "       [0., 0., 0., 0., 1.]])"
      ]
     },
     "execution_count": 7,
     "metadata": {},
     "output_type": "execute_result"
    }
   ],
   "source": [
    "a=np.eye(5)\n",
    "a"
   ]
  },
  {
   "cell_type": "code",
   "execution_count": 9,
   "id": "05df48d2",
   "metadata": {},
   "outputs": [
    {
     "data": {
      "text/plain": [
       "array([[1., 0., 0., 0., 0.],\n",
       "       [0., 1., 0., 0., 0.],\n",
       "       [0., 0., 1., 0., 0.],\n",
       "       [0., 0., 0., 1., 0.],\n",
       "       [0., 0., 0., 0., 1.]])"
      ]
     },
     "execution_count": 9,
     "metadata": {},
     "output_type": "execute_result"
    }
   ],
   "source": [
    "a.T"
   ]
  },
  {
   "cell_type": "code",
   "execution_count": 10,
   "id": "1d3790b5",
   "metadata": {},
   "outputs": [
    {
     "data": {
      "text/plain": [
       "array([[0.40478563, 0.8170182 , 0.12069152],\n",
       "       [0.69419273, 0.51014945, 0.76532792]])"
      ]
     },
     "execution_count": 10,
     "metadata": {},
     "output_type": "execute_result"
    }
   ],
   "source": [
    "a=np.random.rand(2,3)\n",
    "a"
   ]
  },
  {
   "cell_type": "code",
   "execution_count": 11,
   "id": "19b83e48",
   "metadata": {},
   "outputs": [
    {
     "data": {
      "text/plain": [
       "array([[0.40478563, 0.69419273],\n",
       "       [0.8170182 , 0.51014945],\n",
       "       [0.12069152, 0.76532792]])"
      ]
     },
     "execution_count": 11,
     "metadata": {},
     "output_type": "execute_result"
    }
   ],
   "source": [
    "a.T"
   ]
  },
  {
   "cell_type": "code",
   "execution_count": 13,
   "id": "85837689",
   "metadata": {},
   "outputs": [
    {
     "data": {
      "text/plain": [
       "array([10, 11, 12, 13, 14, 15, 16, 17, 18, 19, 20])"
      ]
     },
     "execution_count": 13,
     "metadata": {},
     "output_type": "execute_result"
    }
   ],
   "source": [
    "sample_array=np.arange(10,21)\n",
    "sample_array"
   ]
  },
  {
   "cell_type": "code",
   "execution_count": 14,
   "id": "a6ce241e",
   "metadata": {},
   "outputs": [
    {
     "data": {
      "text/plain": [
       "10"
      ]
     },
     "execution_count": 14,
     "metadata": {},
     "output_type": "execute_result"
    }
   ],
   "source": [
    "sample_array[0]"
   ]
  },
  {
   "cell_type": "code",
   "execution_count": 15,
   "id": "906bcfa9",
   "metadata": {},
   "outputs": [
    {
     "data": {
      "text/plain": [
       "array([12, 13, 14])"
      ]
     },
     "execution_count": 15,
     "metadata": {},
     "output_type": "execute_result"
    }
   ],
   "source": [
    "sample_array[2:5]"
   ]
  },
  {
   "cell_type": "code",
   "execution_count": 16,
   "id": "8ba4dc62",
   "metadata": {},
   "outputs": [
    {
     "data": {
      "text/plain": [
       "array([ 10, 100, 100, 100,  14,  15,  16,  17,  18,  19,  20])"
      ]
     },
     "execution_count": 16,
     "metadata": {},
     "output_type": "execute_result"
    }
   ],
   "source": [
    "sample_array[1:4]=100\n",
    "sample_array"
   ]
  },
  {
   "cell_type": "code",
   "execution_count": 17,
   "id": "155ce94f",
   "metadata": {},
   "outputs": [
    {
     "data": {
      "text/plain": [
       "array([10, 11, 12, 13, 14, 15, 16, 17, 18, 19, 20])"
      ]
     },
     "execution_count": 17,
     "metadata": {},
     "output_type": "execute_result"
    }
   ],
   "source": [
    "sample_array=np.arange(10,21)\n",
    "sample_array"
   ]
  },
  {
   "cell_type": "code",
   "execution_count": 18,
   "id": "18140696",
   "metadata": {},
   "outputs": [
    {
     "data": {
      "text/plain": [
       "array([10, 11, 12, 13, 14, 15, 16])"
      ]
     },
     "execution_count": 18,
     "metadata": {},
     "output_type": "execute_result"
    }
   ],
   "source": [
    "sample_array[0:7]"
   ]
  },
  {
   "cell_type": "code",
   "execution_count": 19,
   "id": "977c05eb",
   "metadata": {},
   "outputs": [
    {
     "data": {
      "text/plain": [
       "array([10, 11, 12, 13, 14, 15, 16])"
      ]
     },
     "execution_count": 19,
     "metadata": {},
     "output_type": "execute_result"
    }
   ],
   "source": [
    "subset_sample_array=sample_array[0:7]\n",
    "subset_sample_array"
   ]
  },
  {
   "cell_type": "code",
   "execution_count": 20,
   "id": "c1ffbe51",
   "metadata": {},
   "outputs": [
    {
     "data": {
      "text/plain": [
       "array([2345, 2345, 2345, 2345, 2345, 2345, 2345])"
      ]
     },
     "execution_count": 20,
     "metadata": {},
     "output_type": "execute_result"
    }
   ],
   "source": [
    "subset_sample_array[:]=2345\n",
    "subset_sample_array"
   ]
  },
  {
   "cell_type": "code",
   "execution_count": 21,
   "id": "544ae698",
   "metadata": {},
   "outputs": [],
   "source": [
    "import numpy as np"
   ]
  },
  {
   "cell_type": "code",
   "execution_count": 22,
   "id": "0b49d691",
   "metadata": {},
   "outputs": [
    {
     "data": {
      "text/plain": [
       "array([[50, 20,  1, 23],\n",
       "       [24, 23, 21, 33],\n",
       "       [56, 76, 24,  7]])"
      ]
     },
     "execution_count": 22,
     "metadata": {},
     "output_type": "execute_result"
    }
   ],
   "source": [
    "sample_matrix=np.array([[50,20,1,23],[24,23,21,33],[56,76,24,7]])\n",
    "sample_matrix"
   ]
  },
  {
   "cell_type": "code",
   "execution_count": 23,
   "id": "5f980a93",
   "metadata": {},
   "outputs": [
    {
     "data": {
      "text/plain": [
       "21"
      ]
     },
     "execution_count": 23,
     "metadata": {},
     "output_type": "execute_result"
    }
   ],
   "source": [
    "sample_matrix[1,2]"
   ]
  },
  {
   "cell_type": "code",
   "execution_count": 24,
   "id": "49dad0fa",
   "metadata": {},
   "outputs": [
    {
     "data": {
      "text/plain": [
       "array([56, 76, 24,  7])"
      ]
     },
     "execution_count": 24,
     "metadata": {},
     "output_type": "execute_result"
    }
   ],
   "source": [
    "sample_matrix[2,:]"
   ]
  },
  {
   "cell_type": "code",
   "execution_count": 25,
   "id": "839373a5",
   "metadata": {},
   "outputs": [
    {
     "data": {
      "text/plain": [
       "array([56, 76, 24,  7])"
      ]
     },
     "execution_count": 25,
     "metadata": {},
     "output_type": "execute_result"
    }
   ],
   "source": [
    "sample_matrix[2]"
   ]
  },
  {
   "cell_type": "code",
   "execution_count": 26,
   "id": "5696ca82",
   "metadata": {},
   "outputs": [
    {
     "data": {
      "text/plain": [
       "array([[23,  1],\n",
       "       [33, 21],\n",
       "       [ 7, 24]])"
      ]
     },
     "execution_count": 26,
     "metadata": {},
     "output_type": "execute_result"
    }
   ],
   "source": [
    "sample_matrix[:,(3,2)]"
   ]
  },
  {
   "cell_type": "code",
   "execution_count": 27,
   "id": "f8075726",
   "metadata": {},
   "outputs": [
    {
     "data": {
      "text/plain": [
       "array([ 1,  2,  3,  4,  5,  6,  7,  8,  9, 10, 11, 12, 13, 14, 15, 16, 17,\n",
       "       18, 19])"
      ]
     },
     "execution_count": 27,
     "metadata": {},
     "output_type": "execute_result"
    }
   ],
   "source": [
    "sample_array=np.arange(1,20)\n",
    "sample_array"
   ]
  },
  {
   "cell_type": "code",
   "execution_count": 28,
   "id": "ac251785",
   "metadata": {},
   "outputs": [
    {
     "data": {
      "text/plain": [
       "array([ 2,  4,  6,  8, 10, 12, 14, 16, 18, 20, 22, 24, 26, 28, 30, 32, 34,\n",
       "       36, 38])"
      ]
     },
     "execution_count": 28,
     "metadata": {},
     "output_type": "execute_result"
    }
   ],
   "source": [
    "sample_array+sample_array"
   ]
  },
  {
   "cell_type": "code",
   "execution_count": 29,
   "id": "4524c0b3",
   "metadata": {},
   "outputs": [
    {
     "data": {
      "text/plain": [
       "array([2.71828183e+00, 7.38905610e+00, 2.00855369e+01, 5.45981500e+01,\n",
       "       1.48413159e+02, 4.03428793e+02, 1.09663316e+03, 2.98095799e+03,\n",
       "       8.10308393e+03, 2.20264658e+04, 5.98741417e+04, 1.62754791e+05,\n",
       "       4.42413392e+05, 1.20260428e+06, 3.26901737e+06, 8.88611052e+06,\n",
       "       2.41549528e+07, 6.56599691e+07, 1.78482301e+08])"
      ]
     },
     "execution_count": 29,
     "metadata": {},
     "output_type": "execute_result"
    }
   ],
   "source": [
    "np.exp(sample_array) #exponential"
   ]
  },
  {
   "cell_type": "code",
   "execution_count": 30,
   "id": "3b0a99d8",
   "metadata": {},
   "outputs": [
    {
     "data": {
      "text/plain": [
       "array([1.        , 1.41421356, 1.73205081, 2.        , 2.23606798,\n",
       "       2.44948974, 2.64575131, 2.82842712, 3.        , 3.16227766,\n",
       "       3.31662479, 3.46410162, 3.60555128, 3.74165739, 3.87298335,\n",
       "       4.        , 4.12310563, 4.24264069, 4.35889894])"
      ]
     },
     "execution_count": 30,
     "metadata": {},
     "output_type": "execute_result"
    }
   ],
   "source": [
    "np.sqrt(sample_array)"
   ]
  },
  {
   "cell_type": "code",
   "execution_count": 31,
   "id": "9aaab409",
   "metadata": {},
   "outputs": [
    {
     "data": {
      "text/plain": [
       "array([0.        , 0.69314718, 1.09861229, 1.38629436, 1.60943791,\n",
       "       1.79175947, 1.94591015, 2.07944154, 2.19722458, 2.30258509,\n",
       "       2.39789527, 2.48490665, 2.56494936, 2.63905733, 2.7080502 ,\n",
       "       2.77258872, 2.83321334, 2.89037176, 2.94443898])"
      ]
     },
     "execution_count": 31,
     "metadata": {},
     "output_type": "execute_result"
    }
   ],
   "source": [
    "np.log(sample_array)"
   ]
  },
  {
   "cell_type": "code",
   "execution_count": 33,
   "id": "5f3ab70b",
   "metadata": {},
   "outputs": [
    {
     "data": {
      "text/plain": [
       "19"
      ]
     },
     "execution_count": 33,
     "metadata": {},
     "output_type": "execute_result"
    }
   ],
   "source": [
    "np.max(sample_array) #maximum"
   ]
  },
  {
   "cell_type": "code",
   "execution_count": 34,
   "id": "fa41c42d",
   "metadata": {},
   "outputs": [
    {
     "data": {
      "text/plain": [
       "1"
      ]
     },
     "execution_count": 34,
     "metadata": {},
     "output_type": "execute_result"
    }
   ],
   "source": [
    "np.min(sample_array) #minimum"
   ]
  },
  {
   "cell_type": "code",
   "execution_count": 35,
   "id": "9ea6ae84",
   "metadata": {},
   "outputs": [
    {
     "data": {
      "text/plain": [
       "18"
      ]
     },
     "execution_count": 35,
     "metadata": {},
     "output_type": "execute_result"
    }
   ],
   "source": [
    "np.argmax(sample_array)"
   ]
  },
  {
   "cell_type": "code",
   "execution_count": 36,
   "id": "5ca1341d",
   "metadata": {},
   "outputs": [
    {
     "data": {
      "text/plain": [
       "0"
      ]
     },
     "execution_count": 36,
     "metadata": {},
     "output_type": "execute_result"
    }
   ],
   "source": [
    "np.argmin(sample_array)"
   ]
  },
  {
   "cell_type": "code",
   "execution_count": 37,
   "id": "552ac04e",
   "metadata": {},
   "outputs": [
    {
     "data": {
      "text/plain": [
       "array([  1,   4,   9,  16,  25,  36,  49,  64,  81, 100, 121, 144, 169,\n",
       "       196, 225, 256, 289, 324, 361])"
      ]
     },
     "execution_count": 37,
     "metadata": {},
     "output_type": "execute_result"
    }
   ],
   "source": [
    "np.square(sample_array)"
   ]
  },
  {
   "cell_type": "code",
   "execution_count": 38,
   "id": "b6a114f1",
   "metadata": {},
   "outputs": [
    {
     "data": {
      "text/plain": [
       "5.477225575051661"
      ]
     },
     "execution_count": 38,
     "metadata": {},
     "output_type": "execute_result"
    }
   ],
   "source": [
    "np.std(sample_array)"
   ]
  },
  {
   "cell_type": "code",
   "execution_count": 39,
   "id": "2ccbe001",
   "metadata": {},
   "outputs": [
    {
     "data": {
      "text/plain": [
       "30.0"
      ]
     },
     "execution_count": 39,
     "metadata": {},
     "output_type": "execute_result"
    }
   ],
   "source": [
    "np.var(sample_array)"
   ]
  },
  {
   "cell_type": "code",
   "execution_count": 40,
   "id": "cec1427d",
   "metadata": {},
   "outputs": [
    {
     "data": {
      "text/plain": [
       "10.0"
      ]
     },
     "execution_count": 40,
     "metadata": {},
     "output_type": "execute_result"
    }
   ],
   "source": [
    "np.mean(sample_array)"
   ]
  },
  {
   "cell_type": "code",
   "execution_count": 43,
   "id": "4deb234e",
   "metadata": {},
   "outputs": [
    {
     "data": {
      "text/plain": [
       "array([[ 0.10154044, -0.49939922, -0.11723811,  0.17564814],\n",
       "       [ 0.45277495,  0.26591161,  1.31713713, -0.84677299],\n",
       "       [ 0.50509444,  0.63293204, -1.05634213, -0.85479688]])"
      ]
     },
     "execution_count": 43,
     "metadata": {},
     "output_type": "execute_result"
    }
   ],
   "source": [
    "array=np.random.randn(3,4)\n",
    "array"
   ]
  },
  {
   "cell_type": "code",
   "execution_count": 44,
   "id": "574557ab",
   "metadata": {},
   "outputs": [
    {
     "data": {
      "text/plain": [
       "array([[ 0.1 , -0.5 , -0.12,  0.18],\n",
       "       [ 0.45,  0.27,  1.32, -0.85],\n",
       "       [ 0.51,  0.63, -1.06, -0.85]])"
      ]
     },
     "execution_count": 44,
     "metadata": {},
     "output_type": "execute_result"
    }
   ],
   "source": [
    "np.round(array,decimals=2)"
   ]
  },
  {
   "cell_type": "code",
   "execution_count": 45,
   "id": "064b0653",
   "metadata": {},
   "outputs": [
    {
     "data": {
      "text/plain": [
       "array(['cricket', 'football', 'golf'], dtype='<U8')"
      ]
     },
     "execution_count": 45,
     "metadata": {},
     "output_type": "execute_result"
    }
   ],
   "source": [
    "sports=np.array([\"golf\",\"cricket\",\"football\",\"cricket\"])\n",
    "np.unique(sports)"
   ]
  },
  {
   "cell_type": "markdown",
   "id": "50543e75",
   "metadata": {},
   "source": [
    "### pandas"
   ]
  },
  {
   "cell_type": "code",
   "execution_count": 46,
   "id": "e7456d2d",
   "metadata": {},
   "outputs": [],
   "source": [
    "import pandas as pd\n",
    "import numpy as np"
   ]
  },
  {
   "cell_type": "code",
   "execution_count": 48,
   "id": "e5acc394",
   "metadata": {},
   "outputs": [
    {
     "data": {
      "text/plain": [
       "cricket       1\n",
       "football      2\n",
       "basketball    3\n",
       "golf          4\n",
       "dtype: int64"
      ]
     },
     "execution_count": 48,
     "metadata": {},
     "output_type": "execute_result"
    }
   ],
   "source": [
    "sports1=pd.Series([1,2,3,4],index=[\"cricket\",\"football\",\"basketball\",\"golf\"])\n",
    "sports1"
   ]
  },
  {
   "cell_type": "code",
   "execution_count": 49,
   "id": "1af9dc7a",
   "metadata": {},
   "outputs": [
    {
     "data": {
      "text/plain": [
       "2"
      ]
     },
     "execution_count": 49,
     "metadata": {},
     "output_type": "execute_result"
    }
   ],
   "source": [
    "sports1[\"football\"]"
   ]
  },
  {
   "cell_type": "code",
   "execution_count": 50,
   "id": "99fac4b8",
   "metadata": {},
   "outputs": [
    {
     "data": {
      "text/plain": [
       "cricket     11\n",
       "football     2\n",
       "baseball     3\n",
       "golf         4\n",
       "dtype: int64"
      ]
     },
     "execution_count": 50,
     "metadata": {},
     "output_type": "execute_result"
    }
   ],
   "source": [
    "sports2=pd.Series([11,2,3,4],index=[\"cricket\",\"football\",\"baseball\",\"golf\"])\n",
    "sports2"
   ]
  },
  {
   "cell_type": "code",
   "execution_count": 51,
   "id": "bd2d0b13",
   "metadata": {},
   "outputs": [
    {
     "data": {
      "text/plain": [
       "baseball       NaN\n",
       "basketball     NaN\n",
       "cricket       12.0\n",
       "football       4.0\n",
       "golf           8.0\n",
       "dtype: float64"
      ]
     },
     "execution_count": 51,
     "metadata": {},
     "output_type": "execute_result"
    }
   ],
   "source": [
    "sports1+sports2"
   ]
  },
  {
   "cell_type": "code",
   "execution_count": 53,
   "id": "badfa8d1",
   "metadata": {},
   "outputs": [
    {
     "data": {
      "text/html": [
       "<div>\n",
       "<style scoped>\n",
       "    .dataframe tbody tr th:only-of-type {\n",
       "        vertical-align: middle;\n",
       "    }\n",
       "\n",
       "    .dataframe tbody tr th {\n",
       "        vertical-align: top;\n",
       "    }\n",
       "\n",
       "    .dataframe thead th {\n",
       "        text-align: right;\n",
       "    }\n",
       "</style>\n",
       "<table border=\"1\" class=\"dataframe\">\n",
       "  <thead>\n",
       "    <tr style=\"text-align: right;\">\n",
       "      <th></th>\n",
       "      <th>score1</th>\n",
       "      <th>score2</th>\n",
       "      <th>score3</th>\n",
       "      <th>score4</th>\n",
       "      <th>score5</th>\n",
       "    </tr>\n",
       "  </thead>\n",
       "  <tbody>\n",
       "    <tr>\n",
       "      <th>A</th>\n",
       "      <td>0.813602</td>\n",
       "      <td>0.181344</td>\n",
       "      <td>0.480933</td>\n",
       "      <td>0.723203</td>\n",
       "      <td>0.583702</td>\n",
       "    </tr>\n",
       "    <tr>\n",
       "      <th>B</th>\n",
       "      <td>0.303804</td>\n",
       "      <td>0.230553</td>\n",
       "      <td>0.176688</td>\n",
       "      <td>0.856829</td>\n",
       "      <td>0.457129</td>\n",
       "    </tr>\n",
       "    <tr>\n",
       "      <th>C</th>\n",
       "      <td>0.602167</td>\n",
       "      <td>0.659714</td>\n",
       "      <td>0.261103</td>\n",
       "      <td>0.953191</td>\n",
       "      <td>0.352368</td>\n",
       "    </tr>\n",
       "    <tr>\n",
       "      <th>D</th>\n",
       "      <td>0.656998</td>\n",
       "      <td>0.367404</td>\n",
       "      <td>0.764369</td>\n",
       "      <td>0.921413</td>\n",
       "      <td>0.738848</td>\n",
       "    </tr>\n",
       "    <tr>\n",
       "      <th>E</th>\n",
       "      <td>0.439246</td>\n",
       "      <td>0.202860</td>\n",
       "      <td>0.685190</td>\n",
       "      <td>0.337955</td>\n",
       "      <td>0.814613</td>\n",
       "    </tr>\n",
       "    <tr>\n",
       "      <th>F</th>\n",
       "      <td>0.950807</td>\n",
       "      <td>0.319538</td>\n",
       "      <td>0.663201</td>\n",
       "      <td>0.798874</td>\n",
       "      <td>0.685629</td>\n",
       "    </tr>\n",
       "    <tr>\n",
       "      <th>G</th>\n",
       "      <td>0.136434</td>\n",
       "      <td>0.664914</td>\n",
       "      <td>0.190184</td>\n",
       "      <td>0.835662</td>\n",
       "      <td>0.775510</td>\n",
       "    </tr>\n",
       "    <tr>\n",
       "      <th>H</th>\n",
       "      <td>0.390723</td>\n",
       "      <td>0.092421</td>\n",
       "      <td>0.111300</td>\n",
       "      <td>0.938313</td>\n",
       "      <td>0.893935</td>\n",
       "    </tr>\n",
       "  </tbody>\n",
       "</table>\n",
       "</div>"
      ],
      "text/plain": [
       "     score1    score2    score3    score4    score5\n",
       "A  0.813602  0.181344  0.480933  0.723203  0.583702\n",
       "B  0.303804  0.230553  0.176688  0.856829  0.457129\n",
       "C  0.602167  0.659714  0.261103  0.953191  0.352368\n",
       "D  0.656998  0.367404  0.764369  0.921413  0.738848\n",
       "E  0.439246  0.202860  0.685190  0.337955  0.814613\n",
       "F  0.950807  0.319538  0.663201  0.798874  0.685629\n",
       "G  0.136434  0.664914  0.190184  0.835662  0.775510\n",
       "H  0.390723  0.092421  0.111300  0.938313  0.893935"
      ]
     },
     "execution_count": 53,
     "metadata": {},
     "output_type": "execute_result"
    }
   ],
   "source": [
    "df1=pd.DataFrame(np.random.rand(8,5),index=\"A B C D E F G H\".split(),columns=\"score1 score2 score3 score4 score5\".split())\n",
    "df1"
   ]
  },
  {
   "cell_type": "code",
   "execution_count": 54,
   "id": "9ad361c7",
   "metadata": {},
   "outputs": [
    {
     "data": {
      "text/plain": [
       "A    0.813602\n",
       "B    0.303804\n",
       "C    0.602167\n",
       "D    0.656998\n",
       "E    0.439246\n",
       "F    0.950807\n",
       "G    0.136434\n",
       "H    0.390723\n",
       "Name: score1, dtype: float64"
      ]
     },
     "execution_count": 54,
     "metadata": {},
     "output_type": "execute_result"
    }
   ],
   "source": [
    "df1[\"score1\"]"
   ]
  },
  {
   "cell_type": "code",
   "execution_count": 59,
   "id": "a3bda439",
   "metadata": {},
   "outputs": [
    {
     "data": {
      "text/html": [
       "<div>\n",
       "<style scoped>\n",
       "    .dataframe tbody tr th:only-of-type {\n",
       "        vertical-align: middle;\n",
       "    }\n",
       "\n",
       "    .dataframe tbody tr th {\n",
       "        vertical-align: top;\n",
       "    }\n",
       "\n",
       "    .dataframe thead th {\n",
       "        text-align: right;\n",
       "    }\n",
       "</style>\n",
       "<table border=\"1\" class=\"dataframe\">\n",
       "  <thead>\n",
       "    <tr style=\"text-align: right;\">\n",
       "      <th></th>\n",
       "      <th>score1</th>\n",
       "      <th>score2</th>\n",
       "    </tr>\n",
       "  </thead>\n",
       "  <tbody>\n",
       "    <tr>\n",
       "      <th>A</th>\n",
       "      <td>0.813602</td>\n",
       "      <td>0.181344</td>\n",
       "    </tr>\n",
       "    <tr>\n",
       "      <th>B</th>\n",
       "      <td>0.303804</td>\n",
       "      <td>0.230553</td>\n",
       "    </tr>\n",
       "    <tr>\n",
       "      <th>C</th>\n",
       "      <td>0.602167</td>\n",
       "      <td>0.659714</td>\n",
       "    </tr>\n",
       "    <tr>\n",
       "      <th>D</th>\n",
       "      <td>0.656998</td>\n",
       "      <td>0.367404</td>\n",
       "    </tr>\n",
       "    <tr>\n",
       "      <th>E</th>\n",
       "      <td>0.439246</td>\n",
       "      <td>0.202860</td>\n",
       "    </tr>\n",
       "    <tr>\n",
       "      <th>F</th>\n",
       "      <td>0.950807</td>\n",
       "      <td>0.319538</td>\n",
       "    </tr>\n",
       "    <tr>\n",
       "      <th>G</th>\n",
       "      <td>0.136434</td>\n",
       "      <td>0.664914</td>\n",
       "    </tr>\n",
       "    <tr>\n",
       "      <th>H</th>\n",
       "      <td>0.390723</td>\n",
       "      <td>0.092421</td>\n",
       "    </tr>\n",
       "  </tbody>\n",
       "</table>\n",
       "</div>"
      ],
      "text/plain": [
       "     score1    score2\n",
       "A  0.813602  0.181344\n",
       "B  0.303804  0.230553\n",
       "C  0.602167  0.659714\n",
       "D  0.656998  0.367404\n",
       "E  0.439246  0.202860\n",
       "F  0.950807  0.319538\n",
       "G  0.136434  0.664914\n",
       "H  0.390723  0.092421"
      ]
     },
     "execution_count": 59,
     "metadata": {},
     "output_type": "execute_result"
    }
   ],
   "source": [
    "df1[[\"score1\",\"score2\"]]"
   ]
  },
  {
   "cell_type": "code",
   "execution_count": 60,
   "id": "87a558f1",
   "metadata": {},
   "outputs": [
    {
     "data": {
      "text/html": [
       "<div>\n",
       "<style scoped>\n",
       "    .dataframe tbody tr th:only-of-type {\n",
       "        vertical-align: middle;\n",
       "    }\n",
       "\n",
       "    .dataframe tbody tr th {\n",
       "        vertical-align: top;\n",
       "    }\n",
       "\n",
       "    .dataframe thead th {\n",
       "        text-align: right;\n",
       "    }\n",
       "</style>\n",
       "<table border=\"1\" class=\"dataframe\">\n",
       "  <thead>\n",
       "    <tr style=\"text-align: right;\">\n",
       "      <th></th>\n",
       "      <th>score1</th>\n",
       "      <th>score2</th>\n",
       "      <th>score3</th>\n",
       "      <th>score4</th>\n",
       "      <th>score5</th>\n",
       "      <th>score6</th>\n",
       "    </tr>\n",
       "  </thead>\n",
       "  <tbody>\n",
       "    <tr>\n",
       "      <th>A</th>\n",
       "      <td>0.813602</td>\n",
       "      <td>0.181344</td>\n",
       "      <td>0.480933</td>\n",
       "      <td>0.723203</td>\n",
       "      <td>0.583702</td>\n",
       "      <td>0.994946</td>\n",
       "    </tr>\n",
       "    <tr>\n",
       "      <th>B</th>\n",
       "      <td>0.303804</td>\n",
       "      <td>0.230553</td>\n",
       "      <td>0.176688</td>\n",
       "      <td>0.856829</td>\n",
       "      <td>0.457129</td>\n",
       "      <td>0.534357</td>\n",
       "    </tr>\n",
       "    <tr>\n",
       "      <th>C</th>\n",
       "      <td>0.602167</td>\n",
       "      <td>0.659714</td>\n",
       "      <td>0.261103</td>\n",
       "      <td>0.953191</td>\n",
       "      <td>0.352368</td>\n",
       "      <td>1.261882</td>\n",
       "    </tr>\n",
       "    <tr>\n",
       "      <th>D</th>\n",
       "      <td>0.656998</td>\n",
       "      <td>0.367404</td>\n",
       "      <td>0.764369</td>\n",
       "      <td>0.921413</td>\n",
       "      <td>0.738848</td>\n",
       "      <td>1.024403</td>\n",
       "    </tr>\n",
       "    <tr>\n",
       "      <th>E</th>\n",
       "      <td>0.439246</td>\n",
       "      <td>0.202860</td>\n",
       "      <td>0.685190</td>\n",
       "      <td>0.337955</td>\n",
       "      <td>0.814613</td>\n",
       "      <td>0.642106</td>\n",
       "    </tr>\n",
       "    <tr>\n",
       "      <th>F</th>\n",
       "      <td>0.950807</td>\n",
       "      <td>0.319538</td>\n",
       "      <td>0.663201</td>\n",
       "      <td>0.798874</td>\n",
       "      <td>0.685629</td>\n",
       "      <td>1.270346</td>\n",
       "    </tr>\n",
       "    <tr>\n",
       "      <th>G</th>\n",
       "      <td>0.136434</td>\n",
       "      <td>0.664914</td>\n",
       "      <td>0.190184</td>\n",
       "      <td>0.835662</td>\n",
       "      <td>0.775510</td>\n",
       "      <td>0.801349</td>\n",
       "    </tr>\n",
       "    <tr>\n",
       "      <th>H</th>\n",
       "      <td>0.390723</td>\n",
       "      <td>0.092421</td>\n",
       "      <td>0.111300</td>\n",
       "      <td>0.938313</td>\n",
       "      <td>0.893935</td>\n",
       "      <td>0.483144</td>\n",
       "    </tr>\n",
       "  </tbody>\n",
       "</table>\n",
       "</div>"
      ],
      "text/plain": [
       "     score1    score2    score3    score4    score5    score6\n",
       "A  0.813602  0.181344  0.480933  0.723203  0.583702  0.994946\n",
       "B  0.303804  0.230553  0.176688  0.856829  0.457129  0.534357\n",
       "C  0.602167  0.659714  0.261103  0.953191  0.352368  1.261882\n",
       "D  0.656998  0.367404  0.764369  0.921413  0.738848  1.024403\n",
       "E  0.439246  0.202860  0.685190  0.337955  0.814613  0.642106\n",
       "F  0.950807  0.319538  0.663201  0.798874  0.685629  1.270346\n",
       "G  0.136434  0.664914  0.190184  0.835662  0.775510  0.801349\n",
       "H  0.390723  0.092421  0.111300  0.938313  0.893935  0.483144"
      ]
     },
     "execution_count": 60,
     "metadata": {},
     "output_type": "execute_result"
    }
   ],
   "source": [
    "df1[\"score6\"]=df1[\"score1\"]+df1[\"score2\"]\n",
    "df1"
   ]
  },
  {
   "cell_type": "code",
   "execution_count": 62,
   "id": "fcaffc42",
   "metadata": {},
   "outputs": [
    {
     "data": {
      "text/html": [
       "<div>\n",
       "<style scoped>\n",
       "    .dataframe tbody tr th:only-of-type {\n",
       "        vertical-align: middle;\n",
       "    }\n",
       "\n",
       "    .dataframe tbody tr th {\n",
       "        vertical-align: top;\n",
       "    }\n",
       "\n",
       "    .dataframe thead th {\n",
       "        text-align: right;\n",
       "    }\n",
       "</style>\n",
       "<table border=\"1\" class=\"dataframe\">\n",
       "  <thead>\n",
       "    <tr style=\"text-align: right;\">\n",
       "      <th></th>\n",
       "      <th>ID</th>\n",
       "      <th>name</th>\n",
       "      <th>profit</th>\n",
       "    </tr>\n",
       "  </thead>\n",
       "  <tbody>\n",
       "    <tr>\n",
       "      <th>0</th>\n",
       "      <td>22</td>\n",
       "      <td>joseph</td>\n",
       "      <td>35</td>\n",
       "    </tr>\n",
       "    <tr>\n",
       "      <th>1</th>\n",
       "      <td>34</td>\n",
       "      <td>caesar</td>\n",
       "      <td>56</td>\n",
       "    </tr>\n",
       "    <tr>\n",
       "      <th>2</th>\n",
       "      <td>56</td>\n",
       "      <td>lelouch</td>\n",
       "      <td>43</td>\n",
       "    </tr>\n",
       "    <tr>\n",
       "      <th>3</th>\n",
       "      <td>47</td>\n",
       "      <td>william</td>\n",
       "      <td>71</td>\n",
       "    </tr>\n",
       "  </tbody>\n",
       "</table>\n",
       "</div>"
      ],
      "text/plain": [
       "   ID     name  profit\n",
       "0  22   joseph      35\n",
       "1  34   caesar      56\n",
       "2  56  lelouch      43\n",
       "3  47  william      71"
      ]
     },
     "execution_count": 62,
     "metadata": {},
     "output_type": "execute_result"
    }
   ],
   "source": [
    "df2={\"ID\":[\"22\",\"34\",\"56\",\"47\"],\"name\":[\"joseph\",\"caesar\",\"lelouch\",\"william\"],\"profit\":[35,56,43,71]}\n",
    "df=pd.DataFrame(df2)\n",
    "df"
   ]
  },
  {
   "cell_type": "code",
   "execution_count": 63,
   "id": "4735dda0",
   "metadata": {},
   "outputs": [
    {
     "data": {
      "text/plain": [
       "0    22\n",
       "1    34\n",
       "2    56\n",
       "3    47\n",
       "Name: ID, dtype: object"
      ]
     },
     "execution_count": 63,
     "metadata": {},
     "output_type": "execute_result"
    }
   ],
   "source": [
    "df[\"ID\"]"
   ]
  },
  {
   "cell_type": "code",
   "execution_count": 64,
   "id": "abbc4777",
   "metadata": {},
   "outputs": [
    {
     "data": {
      "text/html": [
       "<div>\n",
       "<style scoped>\n",
       "    .dataframe tbody tr th:only-of-type {\n",
       "        vertical-align: middle;\n",
       "    }\n",
       "\n",
       "    .dataframe tbody tr th {\n",
       "        vertical-align: top;\n",
       "    }\n",
       "\n",
       "    .dataframe thead th {\n",
       "        text-align: right;\n",
       "    }\n",
       "</style>\n",
       "<table border=\"1\" class=\"dataframe\">\n",
       "  <thead>\n",
       "    <tr style=\"text-align: right;\">\n",
       "      <th></th>\n",
       "      <th>ID</th>\n",
       "      <th>name</th>\n",
       "    </tr>\n",
       "  </thead>\n",
       "  <tbody>\n",
       "    <tr>\n",
       "      <th>0</th>\n",
       "      <td>22</td>\n",
       "      <td>joseph</td>\n",
       "    </tr>\n",
       "    <tr>\n",
       "      <th>1</th>\n",
       "      <td>34</td>\n",
       "      <td>caesar</td>\n",
       "    </tr>\n",
       "    <tr>\n",
       "      <th>2</th>\n",
       "      <td>56</td>\n",
       "      <td>lelouch</td>\n",
       "    </tr>\n",
       "    <tr>\n",
       "      <th>3</th>\n",
       "      <td>47</td>\n",
       "      <td>william</td>\n",
       "    </tr>\n",
       "  </tbody>\n",
       "</table>\n",
       "</div>"
      ],
      "text/plain": [
       "   ID     name\n",
       "0  22   joseph\n",
       "1  34   caesar\n",
       "2  56  lelouch\n",
       "3  47  william"
      ]
     },
     "execution_count": 64,
     "metadata": {},
     "output_type": "execute_result"
    }
   ],
   "source": [
    "df[[\"ID\",\"name\"]]"
   ]
  },
  {
   "cell_type": "code",
   "execution_count": 65,
   "id": "65b05362",
   "metadata": {},
   "outputs": [
    {
     "data": {
      "text/html": [
       "<div>\n",
       "<style scoped>\n",
       "    .dataframe tbody tr th:only-of-type {\n",
       "        vertical-align: middle;\n",
       "    }\n",
       "\n",
       "    .dataframe tbody tr th {\n",
       "        vertical-align: top;\n",
       "    }\n",
       "\n",
       "    .dataframe thead th {\n",
       "        text-align: right;\n",
       "    }\n",
       "</style>\n",
       "<table border=\"1\" class=\"dataframe\">\n",
       "  <thead>\n",
       "    <tr style=\"text-align: right;\">\n",
       "      <th></th>\n",
       "      <th>ID</th>\n",
       "      <th>name</th>\n",
       "      <th>profit</th>\n",
       "    </tr>\n",
       "  </thead>\n",
       "  <tbody>\n",
       "    <tr>\n",
       "      <th>0</th>\n",
       "      <td>22</td>\n",
       "      <td>joseph</td>\n",
       "      <td>35</td>\n",
       "    </tr>\n",
       "    <tr>\n",
       "      <th>1</th>\n",
       "      <td>34</td>\n",
       "      <td>caesar</td>\n",
       "      <td>56</td>\n",
       "    </tr>\n",
       "    <tr>\n",
       "      <th>2</th>\n",
       "      <td>56</td>\n",
       "      <td>lelouch</td>\n",
       "      <td>43</td>\n",
       "    </tr>\n",
       "    <tr>\n",
       "      <th>3</th>\n",
       "      <td>47</td>\n",
       "      <td>william</td>\n",
       "      <td>71</td>\n",
       "    </tr>\n",
       "  </tbody>\n",
       "</table>\n",
       "</div>"
      ],
      "text/plain": [
       "   ID     name  profit\n",
       "0  22   joseph      35\n",
       "1  34   caesar      56\n",
       "2  56  lelouch      43\n",
       "3  47  william      71"
      ]
     },
     "execution_count": 65,
     "metadata": {},
     "output_type": "execute_result"
    }
   ],
   "source": [
    "df[[\"ID\",\"name\",\"profit\"]]"
   ]
  },
  {
   "cell_type": "code",
   "execution_count": 66,
   "id": "4808ff9c",
   "metadata": {},
   "outputs": [
    {
     "data": {
      "text/html": [
       "<div>\n",
       "<style scoped>\n",
       "    .dataframe tbody tr th:only-of-type {\n",
       "        vertical-align: middle;\n",
       "    }\n",
       "\n",
       "    .dataframe tbody tr th {\n",
       "        vertical-align: top;\n",
       "    }\n",
       "\n",
       "    .dataframe thead th {\n",
       "        text-align: right;\n",
       "    }\n",
       "</style>\n",
       "<table border=\"1\" class=\"dataframe\">\n",
       "  <thead>\n",
       "    <tr style=\"text-align: right;\">\n",
       "      <th></th>\n",
       "      <th>name</th>\n",
       "      <th>profit</th>\n",
       "    </tr>\n",
       "  </thead>\n",
       "  <tbody>\n",
       "    <tr>\n",
       "      <th>0</th>\n",
       "      <td>joseph</td>\n",
       "      <td>35</td>\n",
       "    </tr>\n",
       "    <tr>\n",
       "      <th>1</th>\n",
       "      <td>caesar</td>\n",
       "      <td>56</td>\n",
       "    </tr>\n",
       "    <tr>\n",
       "      <th>2</th>\n",
       "      <td>lelouch</td>\n",
       "      <td>43</td>\n",
       "    </tr>\n",
       "    <tr>\n",
       "      <th>3</th>\n",
       "      <td>william</td>\n",
       "      <td>71</td>\n",
       "    </tr>\n",
       "  </tbody>\n",
       "</table>\n",
       "</div>"
      ],
      "text/plain": [
       "      name  profit\n",
       "0   joseph      35\n",
       "1   caesar      56\n",
       "2  lelouch      43\n",
       "3  william      71"
      ]
     },
     "execution_count": 66,
     "metadata": {},
     "output_type": "execute_result"
    }
   ],
   "source": [
    "df=df.drop(\"ID\",axis=1)\n",
    "df"
   ]
  },
  {
   "cell_type": "code",
   "execution_count": 67,
   "id": "fefb841d",
   "metadata": {},
   "outputs": [
    {
     "data": {
      "text/html": [
       "<div>\n",
       "<style scoped>\n",
       "    .dataframe tbody tr th:only-of-type {\n",
       "        vertical-align: middle;\n",
       "    }\n",
       "\n",
       "    .dataframe tbody tr th {\n",
       "        vertical-align: top;\n",
       "    }\n",
       "\n",
       "    .dataframe thead th {\n",
       "        text-align: right;\n",
       "    }\n",
       "</style>\n",
       "<table border=\"1\" class=\"dataframe\">\n",
       "  <thead>\n",
       "    <tr style=\"text-align: right;\">\n",
       "      <th></th>\n",
       "      <th>name</th>\n",
       "      <th>profit</th>\n",
       "    </tr>\n",
       "  </thead>\n",
       "  <tbody>\n",
       "    <tr>\n",
       "      <th>0</th>\n",
       "      <td>joseph</td>\n",
       "      <td>35</td>\n",
       "    </tr>\n",
       "    <tr>\n",
       "      <th>1</th>\n",
       "      <td>caesar</td>\n",
       "      <td>56</td>\n",
       "    </tr>\n",
       "    <tr>\n",
       "      <th>2</th>\n",
       "      <td>lelouch</td>\n",
       "      <td>43</td>\n",
       "    </tr>\n",
       "  </tbody>\n",
       "</table>\n",
       "</div>"
      ],
      "text/plain": [
       "      name  profit\n",
       "0   joseph      35\n",
       "1   caesar      56\n",
       "2  lelouch      43"
      ]
     },
     "execution_count": 67,
     "metadata": {},
     "output_type": "execute_result"
    }
   ],
   "source": [
    "df.drop(3)"
   ]
  },
  {
   "cell_type": "code",
   "execution_count": null,
   "id": "16174976",
   "metadata": {},
   "outputs": [],
   "source": []
  }
 ],
 "metadata": {
  "kernelspec": {
   "display_name": "Python 3 (ipykernel)",
   "language": "python",
   "name": "python3"
  },
  "language_info": {
   "codemirror_mode": {
    "name": "ipython",
    "version": 3
   },
   "file_extension": ".py",
   "mimetype": "text/x-python",
   "name": "python",
   "nbconvert_exporter": "python",
   "pygments_lexer": "ipython3",
   "version": "3.11.5"
  }
 },
 "nbformat": 4,
 "nbformat_minor": 5
}
